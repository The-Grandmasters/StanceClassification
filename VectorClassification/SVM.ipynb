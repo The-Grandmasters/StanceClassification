{
 "metadata": {
  "language_info": {
   "codemirror_mode": {
    "name": "ipython",
    "version": 3
   },
   "file_extension": ".py",
   "mimetype": "text/x-python",
   "name": "python",
   "nbconvert_exporter": "python",
   "pygments_lexer": "ipython3",
   "version": "3.8.3-final"
  },
  "orig_nbformat": 2,
  "kernelspec": {
   "name": "python38364bitposeclassconda62cbf9874d8c40c39119fdf8145bfccf",
   "display_name": "Python 3.8.3 64-bit ('poseClass': conda)"
  }
 },
 "nbformat": 4,
 "nbformat_minor": 2,
 "cells": [
  {
   "cell_type": "code",
   "execution_count": 52,
   "metadata": {},
   "outputs": [],
   "source": [
    "import numpy as np\n",
    "import torch\n",
    "from numpy import inf\n",
    "import pandas as pd\n",
    "from sklearn.metrics import confusion_matrix,classification_report\n",
    "import matplotlib.pyplot as plt \n"
   ]
  },
  {
   "cell_type": "code",
   "execution_count": 60,
   "metadata": {},
   "outputs": [
    {
     "output_type": "error",
     "ename": "NameError",
     "evalue": "name 'plt' is not defined",
     "traceback": [
      "\u001b[0;31m---------------------------------------------------------------------------\u001b[0m",
      "\u001b[0;31mNameError\u001b[0m                                 Traceback (most recent call last)",
      "\u001b[0;32m<ipython-input-60-430085b77be5>\u001b[0m in \u001b[0;36m<module>\u001b[0;34m\u001b[0m\n\u001b[1;32m     29\u001b[0m \u001b[0mlabels\u001b[0m \u001b[0;34m=\u001b[0m \u001b[0mFeatureNames\u001b[0m\u001b[0;34m\u001b[0m\u001b[0;34m\u001b[0m\u001b[0m\n\u001b[1;32m     30\u001b[0m \u001b[0msizes\u001b[0m \u001b[0;34m=\u001b[0m \u001b[0mtrain_x\u001b[0m\u001b[0;34m\u001b[0m\u001b[0;34m\u001b[0m\u001b[0m\n\u001b[0;32m---> 31\u001b[0;31m \u001b[0mpatches\u001b[0m\u001b[0;34m,\u001b[0m \u001b[0mtexts\u001b[0m \u001b[0;34m=\u001b[0m \u001b[0mplt\u001b[0m\u001b[0;34m.\u001b[0m\u001b[0mpie\u001b[0m\u001b[0;34m(\u001b[0m\u001b[0msizes\u001b[0m\u001b[0;34m,\u001b[0m \u001b[0mshadow\u001b[0m\u001b[0;34m=\u001b[0m\u001b[0;32mTrue\u001b[0m\u001b[0;34m,\u001b[0m \u001b[0mstartangle\u001b[0m\u001b[0;34m=\u001b[0m\u001b[0;36m90\u001b[0m\u001b[0;34m,\u001b[0m \u001b[0mpctdistance\u001b[0m\u001b[0;34m=\u001b[0m\u001b[0;36m1.1\u001b[0m\u001b[0;34m,\u001b[0m \u001b[0mlabeldistance\u001b[0m\u001b[0;34m=\u001b[0m\u001b[0;36m1.2\u001b[0m\u001b[0;34m)\u001b[0m\u001b[0;34m\u001b[0m\u001b[0;34m\u001b[0m\u001b[0m\n\u001b[0m\u001b[1;32m     32\u001b[0m \u001b[0mplt\u001b[0m\u001b[0;34m.\u001b[0m\u001b[0mlegend\u001b[0m\u001b[0;34m(\u001b[0m\u001b[0mpatches\u001b[0m\u001b[0;34m,\u001b[0m \u001b[0mlabels\u001b[0m\u001b[0;34m,\u001b[0m \u001b[0mloc\u001b[0m\u001b[0;34m=\u001b[0m\u001b[0;34m\"best\"\u001b[0m\u001b[0;34m)\u001b[0m\u001b[0;34m\u001b[0m\u001b[0;34m\u001b[0m\u001b[0m\n\u001b[1;32m     33\u001b[0m \u001b[0mplt\u001b[0m\u001b[0;34m.\u001b[0m\u001b[0maxis\u001b[0m\u001b[0;34m(\u001b[0m\u001b[0;34m'equal'\u001b[0m\u001b[0;34m)\u001b[0m\u001b[0;34m\u001b[0m\u001b[0;34m\u001b[0m\u001b[0m\n",
      "\u001b[0;31mNameError\u001b[0m: name 'plt' is not defined"
     ]
    }
   ],
   "source": [
    "#Format Data for KNN - 17 '\n",
    "#load dataset, training and testing, examples(x) and labels(y)\n",
    "train_x = torch.load(\"train_x.pt\", map_location=torch.device('cpu')).numpy()\n",
    "train_y = torch.load(\"train_y.pt\", map_location=torch.device('cpu')).numpy()\n",
    "test_x = torch.load(\"test_x.pt\", map_location=torch.device('cpu')).numpy()\n",
    "test_y = torch.load(\"test_y.pt\", map_location=torch.device('cpu')).numpy()\n",
    "\n",
    "from numpy.linalg import norm\n",
    "\n",
    "#for i in range(1,152):\n",
    "#    for j in range(2,17): \n",
    "#        train_x[i] = norm(train_x[i][j],2)\n",
    "#        train_y[i] = norm(train_x[i][j],2)\n",
    "\n",
    "\n",
    "\n",
    "#Format data - \n",
    "train_x = train_x.reshape(train_x.shape[0],train_x.shape[1]*train_x.shape[2])\n",
    "test_x = test_x.reshape(test_x.shape[0],test_x.shape[1]*test_x.shape[2])\n",
    "#train_x = train_x.reshape(train_x.shape[0],train_x.shape[1]*train_x.shape[2])[:,1::3]\n",
    "#test_x = test_x.reshape(test_x.shape[0],test_x.shape[1]*test_x.shape[2])[:,1::3]\n",
    "FeatureNames=['fighting','front', 'ready','cat', 'horse', 'hicho','seiza']\n",
    "\n",
    "#Frequency distribution of classes\"\n",
    "train_outcome = pd.crosstab(index=train_y,  # Make a crosstab\n",
    "                              columns=\"count\")      # Name the count column\n",
    "train_outcome\n",
    "\n",
    "labels = FeatureNames\n",
    "sizes = train_x\n",
    "patches, texts = plt.pie(sizes, shadow=True, startangle=90, pctdistance=1.1, labeldistance=1.2)\n",
    "plt.legend(patches, labels, loc=\"best\")\n",
    "plt.axis('equal')\n",
    "plt.tight_layout()\n",
    "plt.show()\n",
    "\n"
   ]
  },
  {
   "cell_type": "code",
   "execution_count": 57,
   "metadata": {},
   "outputs": [
    {
     "output_type": "stream",
     "name": "stdout",
     "text": [
      "Best score for training data: 0.6872147915027537 \n\nBest C: 10 \n\nBest Kernel: linear \n\nBest Gamma: scale \n\n\n\n              precision    recall  f1-score   support\n\n           0       0.53      0.57      0.55        14\n           1       0.55      0.62      0.58        34\n           2       0.89      0.89      0.89        19\n           3       0.67      0.53      0.59        15\n           4       0.74      0.71      0.72        35\n           5       0.90      0.90      0.90        10\n           6       0.96      0.92      0.94        25\n\n    accuracy                           0.73       152\n   macro avg       0.75      0.74      0.74       152\nweighted avg       0.74      0.73      0.73       152\n\nTraining set score for SVM: 0.794165\nTesting set score for SVM: 0.730263\n"
     ]
    }
   ],
   "source": [
    "from sklearn.model_selection import cross_val_score, GridSearchCV\n",
    "from sklearn.svm import SVC\n",
    "\n",
    "#Libraries to Build Ensemble Model : Random Forest Classifier \n",
    "# Create the parameter grid based on the results of random search \n",
    "params_grid = [{'kernel': ['rbf'], 'gamma': [1e-3, 1e-4],\n",
    "                     'C': [1, 10, 100, 1000]},\n",
    "                    {'kernel': ['linear'], 'C': [1, 10, 100, 1000]}]\n",
    "svm_model = GridSearchCV(SVC(), params_grid, cv=5)\n",
    "svm_model.fit(train_x, train_y)\n",
    "\n",
    "print('Best score for training data:', svm_model.best_score_,\"\\n\") \n",
    "\n",
    "# View the best parameters for the model found using grid search\n",
    "print('Best C:',svm_model.best_estimator_.C,\"\\n\") \n",
    "print('Best Kernel:',svm_model.best_estimator_.kernel,\"\\n\")\n",
    "print('Best Gamma:',svm_model.best_estimator_.gamma,\"\\n\")\n",
    "\n",
    "final_model = svm_model.best_estimator_\n",
    "y_pred = final_model.predict(test_x)\n",
    "print(\"\\n\")\n",
    "print(classification_report(test_y,y_pred))\n",
    "\n",
    "print(\"Training set score for SVM: %f\" % final_model.score(train_x , train_y))\n",
    "print(\"Testing set score for SVM: %f\" % final_model.score(test_x , test_y))\n",
    "\n",
    "\n"
   ]
  },
  {
   "cell_type": "code",
   "execution_count": 58,
   "metadata": {
    "tags": []
   },
   "outputs": [],
   "source": [
    "from sklearn import svm\n",
    "svm = svm.SVC()\n",
    "svm.fit(train_x, train_y)\n",
    "y_pred = svm.predict(test_x)\n"
   ]
  },
  {
   "cell_type": "code",
   "execution_count": 59,
   "metadata": {},
   "outputs": [
    {
     "output_type": "stream",
     "name": "stdout",
     "text": [
      "Accuracy:  0.6907894736842105\nRecall:  0.6907894736842105\nPrecision:  0.7059683136769356\n"
     ]
    }
   ],
   "source": [
    "from sklearn import metrics\n",
    "print(\"Accuracy: \",metrics.accuracy_score(test_y, y_pred))\n",
    "print(\"Recall: \",metrics.recall_score(test_y, y_pred, average='weighted'))\n",
    "#print(\"Specificity: \",metrics.accuracy_score(test_y, y_pred))\n",
    "print(\"Precision: \",metrics.precision_score(test_y, y_pred,average='weighted'))\n",
    "#print(\"Negative Predictive value: \",metrics.accuracy_score(test_y, y_pred))\n",
    "#print(\"FP rate(fall-out): \",metrics.accuracy_score(test_y, y_pred))"
   ]
  },
  {
   "cell_type": "code",
   "execution_count": null,
   "metadata": {},
   "outputs": [],
   "source": []
  }
 ]
}